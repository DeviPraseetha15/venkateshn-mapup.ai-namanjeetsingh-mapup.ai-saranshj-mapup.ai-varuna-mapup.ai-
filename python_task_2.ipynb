{
 "cells": [
  {
   "cell_type": "code",
   "execution_count": 5,
   "id": "dba04214",
   "metadata": {},
   "outputs": [
    {
     "name": "stdout",
     "output_type": "stream",
     "text": [
      "Result DataFrame:\n",
      "Empty DataFrame\n",
      "Columns: [id_start, distance]\n",
      "Index: []\n"
     ]
    }
   ],
   "source": [
    "import pandas as pd\n",
    "\n",
    "def calculate_distance_matrix(df: pd.DataFrame) -> pd.DataFrame:\n",
    "  \n",
    "    df['distance'] = pd.to_numeric(df['distance'], errors='coerce')\n",
    "  \n",
    "    distance_matrix = df.pivot(index='id_start', columns='id_end', values='distance').fillna(0)\n",
    "    \n",
    "    distance_matrix = distance_matrix + distance_matrix.T - distance_matrix * (distance_matrix.T != 0)\n",
    "\n",
    "    return distance_matrix\n",
    "\n",
    "def find_ids_within_ten_percentage_threshold(df: pd.DataFrame, reference_id: int) -> pd.DataFrame:\n",
    " \n",
    "    df['distance'] = pd.to_numeric(df['distance'], errors='coerce')\n",
    "    \n",
    "    reference_distance = df[df['id_start'] == reference_id]['distance'].mean()\n",
    "    threshold = 0.1 * reference_distance\n",
    "    \n",
    "    result_df = df.groupby('id_start')['distance'].mean().reset_index()\n",
    "    result_df = result_df.dropna()  # Drop rows with NaN values\n",
    "    result_df = result_df[(result_df['distance'] >= reference_distance - threshold) & \n",
    "                          (result_df['distance'] <= reference_distance + threshold)]\n",
    "\n",
    "    return result_df\n",
    "\n",
    "dataset_path = r'C:\\Users\\User\\Downloads\\dataset-3.csv'\n",
    "data = pd.read_csv(dataset_path)\n",
    "\n",
    "distance_matrix = calculate_distance_matrix(data)\n",
    "unrolled_df = unroll_distance_matrix (distance_matrix)\n",
    "\n",
    "reference_id = 1\n",
    "\n",
    "result_df = find_ids_within_ten_percentage_threshold(unrolled_df, reference_id)\n",
    "print(\"Result DataFrame:\")\n",
    "print(result_df)\n"
   ]
  },
  {
   "cell_type": "code",
   "execution_count": 3,
   "id": "a47d2bb1",
   "metadata": {},
   "outputs": [
    {
     "name": "stdout",
     "output_type": "stream",
     "text": [
      "Unrolled DataFrame:\n",
      "      id_start   id_end distance\n",
      "1      1001402  1001404     20.2\n",
      "2      1001402  1001406      0.0\n",
      "3      1001402  1001408      0.0\n",
      "4      1001402  1001410      0.0\n",
      "5      1001402  1001412      0.0\n",
      "...        ...      ...      ...\n",
      "1594   1004356  1001468      0.0\n",
      "1595   1004356  1001470      0.0\n",
      "1596   1004356  1001488      4.0\n",
      "1597   1004356  1004354      2.0\n",
      "1598   1004356  1004355      0.0\n",
      "\n",
      "[1560 rows x 3 columns]\n"
     ]
    }
   ],
   "source": [
    "import pandas as pd\n",
    "\n",
    "def unroll_distance_matrix(distance_matrix: pd.DataFrame) -> pd.DataFrame:\n",
    "\n",
    "    # Stack the distance matrix to create a Series with multi-level index\n",
    "    stacked_matrix = distance_matrix.stack()\n",
    "\n",
    "    # Reset index to convert multi-level index to columns\n",
    "    unrolled_df = stacked_matrix.reset_index()\n",
    "\n",
    "    # Rename columns for consistency\n",
    "    unrolled_df.columns = ['id_start', 'id_end', 'distance']\n",
    "\n",
    "    # Filter out rows where id_start is equal to id_end\n",
    "    unrolled_df = unrolled_df[unrolled_df['id_start'] != unrolled_df['id_end']]\n",
    "\n",
    "    return unrolled_df\n",
    "\n",
    "\n",
    "distance_matrix = calculate_distance_matrix(data)\n",
    "\n",
    "unrolled_df = unroll_distance_matrix(distance_matrix)\n",
    "print(\"Unrolled DataFrame:\")\n",
    "print(unrolled_df)\n"
   ]
  },
  {
   "cell_type": "code",
   "execution_count": 4,
   "id": "76a493c6",
   "metadata": {},
   "outputs": [
    {
     "name": "stdout",
     "output_type": "stream",
     "text": [
      "Result DataFrame:\n",
      "Empty DataFrame\n",
      "Columns: [id_start, distance]\n",
      "Index: []\n"
     ]
    }
   ],
   "source": [
    "import pandas as pd\n",
    "\n",
    "def find_ids_within_ten_percentage_threshold(df: pd.DataFrame, reference_id: int) -> pd.DataFrame:\n",
    "  \n",
    "   \n",
    "    df['distance'] = pd.to_numeric(df['distance'], errors='coerce')\n",
    "\n",
    "    reference_distance = df[df['id_start'] == reference_id]['distance'].mean()\n",
    "\n",
    "    threshold = 0.1 * reference_distance\n",
    "    \n",
    "    result_df = df.groupby('id_start')['distance'].mean().reset_index()\n",
    "    result_df = result_df[(result_df['distance'].notnull()) &  # Exclude NaN values\n",
    "                          (result_df['distance'] >= reference_distance - threshold) & \n",
    "                          (result_df['distance'] <= reference_distance + threshold)]\n",
    "    result_df = result_df.sort_values(by='id_start')\n",
    "\n",
    "    return result_df\n",
    "\n",
    "unrolled_df = unroll_distance_matrix (distance_matrix)\n",
    "\n",
    "reference_id = 1\n",
    "\n",
    "result_df = find_ids_within_ten_percentage_threshold(unrolled_df, reference_id)\n",
    "print(\"Result DataFrame:\")\n",
    "print(result_df)\n"
   ]
  },
  {
   "cell_type": "code",
   "execution_count": 7,
   "id": "e106028f",
   "metadata": {},
   "outputs": [
    {
     "name": "stdout",
     "output_type": "stream",
     "text": [
      "DataFrame with Toll Rates:\n",
      "      id_start   id_end distance   moto    car    rv    bus  truck\n",
      "0      1001402  1001402      0.0    0.0    0.0   0.0    0.0    0.0\n",
      "1      1001402  1001404     20.2  16.16  24.24  30.3  44.44  72.72\n",
      "2      1001402  1001406      0.0    0.0    0.0   0.0    0.0    0.0\n",
      "3      1001402  1001408      0.0    0.0    0.0   0.0    0.0    0.0\n",
      "4      1001402  1001410      0.0    0.0    0.0   0.0    0.0    0.0\n",
      "...        ...      ...      ...    ...    ...   ...    ...    ...\n",
      "1595   1004356  1001470      0.0    0.0    0.0   0.0    0.0    0.0\n",
      "1596   1004356  1001488      4.0    3.2    4.8   6.0    8.8   14.4\n",
      "1597   1004356  1004354      2.0    1.6    2.4   3.0    4.4    7.2\n",
      "1598   1004356  1004355      0.0    0.0    0.0   0.0    0.0    0.0\n",
      "1599   1004356  1004356      0.0    0.0    0.0   0.0    0.0    0.0\n",
      "\n",
      "[1600 rows x 8 columns]\n"
     ]
    }
   ],
   "source": [
    "import pandas as pd\n",
    "\n",
    "def calculate_toll_rate(distance_matrix: pd.DataFrame) -> pd.DataFrame:\n",
    "  \n",
    "    result_df = distance_matrix.copy()\n",
    "\n",
    "    rate_coefficients = {'moto': 0.8, 'car': 1.2, 'rv': 1.5, 'bus': 2.2, 'truck': 3.6}\n",
    "\n",
    "    for vehicle_type, rate_coefficient in rate_coefficients.items():\n",
    "        result_df[vehicle_type] = result_df['distance'] * rate_coefficient\n",
    "\n",
    "    return result_df\n",
    "\n",
    "unrolled_df = unroll_distance_matrix(distance_matrix)\n",
    "toll_rate_df = calculate_toll_rate(unrolled_df)\n",
    "print(\"DataFrame with Toll Rates:\")\n",
    "print(toll_rate_df)\n"
   ]
  },
  {
   "cell_type": "code",
   "execution_count": 10,
   "id": "9f197c5f",
   "metadata": {},
   "outputs": [
    {
     "ename": "SyntaxError",
     "evalue": "invalid syntax (4136842413.py, line 13)",
     "output_type": "error",
     "traceback": [
      "\u001b[1;36m  File \u001b[1;32m\"C:\\Users\\User\\AppData\\Local\\Temp\\ipykernel_22248\\4136842413.py\"\u001b[1;36m, line \u001b[1;32m13\u001b[0m\n\u001b[1;33m    for day in range(7):\u001b[0m\n\u001b[1;37m                       ^\u001b[0m\n\u001b[1;31mSyntaxError\u001b[0m\u001b[1;31m:\u001b[0m invalid syntax\n"
     ]
    }
   ],
   "source": [
    "import pandas as pd\n",
    "\n",
    "def calculate_time_based_toll_rates(distance_matrix: pd.DataFrame) -> pd.DataFrame:\n",
    "    \n",
    "    result_df = distance_matrix.copy()\n",
    "\n",
    "    weekday_time_ranges = [(pd.to_datetime('00:00:00').time(), pd.to_datetime('10:00:00').time()),\n",
    "                           (pd.to_datetime('10:00:00').time(), pd.to_datetime('18:00:00').time()),\n",
    "                           (pd.to_datetime('18:00:00').time(), pd.to_datetime('23:59:59').time())]\n",
    "\n",
    "    weekend_time_ranges = [(pd.to_datetime('00:00:00').time(), pd.to_datetime('23:59:59').time())\n",
    "   \n",
    "    for day in range(7): \n",
    "        for start_time, end_time in weekday_time_ranges:\n",
    "            mask = (result_df['start_day'] == day) & (result_df['start_time'] >= start_time) & (result_df['end_time'] <= end_time)\n",
    "            result_df.loc[mask, ['moto', 'car', 'rv', 'bus', 'truck']] *= 0.8\n",
    "\n",
    "        for start_time, end_time in weekend_time_ranges:\n",
    "            mask = (result_df['start_day'] == day) & (result_df['start_time'] >= start_time) & (result_df['end_time'] <= end_time)\n",
    "            result_df.loc[mask, ['moto', 'car', 'rv', 'bus', 'truck']] *= 0.7\n",
    "\n",
    "    return result_df\n",
    "\n",
    "toll_rate_df = calculate_toll_rate(unrolled_df)\n",
    "\n",
    "toll_rate_df['start_day'] = 0\n",
    "toll_rate_df['end_day'] = 6\n",
    "toll_rate_df['start_time'] = pd.to_datetime('00:00:00').time()\n",
    "toll_rate_df['end_time'] = pd.to_datetime('23:59:59').time()\n",
    "\n",
    "time_based_toll_df = calculate_time_based_toll_rates(toll_rate_df)\n",
    "print(\"DataFrame with Time-Based Toll Rates:\")\n",
    "print(time_based_toll_df)\n"
   ]
  },
  {
   "cell_type": "code",
   "execution_count": null,
   "id": "d8f0d3a5",
   "metadata": {},
   "outputs": [],
   "source": []
  }
 ],
 "metadata": {
  "kernelspec": {
   "display_name": "Python 3 (ipykernel)",
   "language": "python",
   "name": "python3"
  },
  "language_info": {
   "codemirror_mode": {
    "name": "ipython",
    "version": 3
   },
   "file_extension": ".py",
   "mimetype": "text/x-python",
   "name": "python",
   "nbconvert_exporter": "python",
   "pygments_lexer": "ipython3",
   "version": "3.9.13"
  }
 },
 "nbformat": 4,
 "nbformat_minor": 5
}
