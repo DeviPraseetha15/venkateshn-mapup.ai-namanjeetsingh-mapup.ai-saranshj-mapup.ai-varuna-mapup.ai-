{
 "cells": [
  {
   "cell_type": "code",
   "execution_count": 5,
   "id": "ae59b571",
   "metadata": {},
   "outputs": [
    {
     "name": "stdout",
     "output_type": "stream",
     "text": [
      "id_2    801    802    803    804    805    806    807    808    809    821  \\\n",
      "id_1                                                                         \n",
      "801    0.00   2.80   6.00   7.70  11.70  13.40  16.90  19.60  21.00  23.52   \n",
      "802    2.80   0.00   3.40   5.20   9.20  10.90  14.30  17.10  18.50  20.92   \n",
      "803    6.00   3.40   0.00   2.00   6.00   7.70  11.10  13.90  15.30  17.72   \n",
      "804    7.70   5.20   2.00   0.00   4.40   6.10   9.50  12.30  13.70  16.12   \n",
      "805   11.70   9.20   6.00   4.40   0.00   2.00   5.40   8.20   9.60  12.02   \n",
      "806   13.40  10.90   7.70   6.10   2.00   0.00   3.80   6.60   8.00  10.42   \n",
      "807   16.90  14.30  11.10   9.50   5.40   3.80   0.00   2.90   4.30   6.82   \n",
      "808   19.60  17.10  13.90  12.30   8.20   6.60   2.90   0.00   1.70   4.12   \n",
      "809   21.00  18.50  15.30  13.70   9.60   8.00   4.30   1.70   0.00   2.92   \n",
      "821   23.52  20.92  17.72  16.12  12.02  10.42   6.82   4.12   2.92   0.00   \n",
      "822   24.67  22.07  18.87  17.27  13.17  11.57   7.97   5.27   4.07   1.80   \n",
      "823   26.53  23.93  20.73  19.13  15.03  13.43   9.83   7.13   5.93   3.67   \n",
      "824   27.92  25.32  22.12  20.52  16.42   7.80  11.22   8.52   7.32   5.06   \n",
      "825   29.08  26.48  23.28  21.68  17.58  15.98  12.38   9.68   8.48   6.22   \n",
      "826   30.87  28.27  25.07  23.47  19.37  17.77  14.17  11.47  10.27   8.01   \n",
      "827   32.53  29.93  26.73  25.13  21.03  19.43  15.83  13.13  11.93   9.43   \n",
      "829   36.32  33.72  30.52  28.92  24.82  23.22  19.62  16.92  15.72  13.26   \n",
      "830   38.27  35.67  32.47  30.87  26.77  25.17  21.57  18.87  17.67  15.17   \n",
      "831   39.24  36.64  33.44  31.84  27.74  26.14  22.54  19.84  18.64  16.15   \n",
      "\n",
      "id_2    822    823    824    825    826    827    829    830    831  \n",
      "id_1                                                                 \n",
      "801   24.67  26.53  27.92  29.08  30.87  32.53  36.32  38.27  39.24  \n",
      "802   22.07  23.93  25.32  26.48  28.27  29.93  33.72  35.67  36.64  \n",
      "803   18.87  20.73  22.12  23.28  25.07  26.73  30.52  32.47  33.44  \n",
      "804   17.27  19.13  20.52  21.68  23.47  25.13  28.92  30.87  31.84  \n",
      "805   13.17  15.03  16.42  17.58  19.37  21.03  24.82  26.77  27.74  \n",
      "806   11.57  13.43  14.82  15.98  17.77  19.43  23.22  25.17  26.14  \n",
      "807    7.97   9.83  11.22  12.38  14.17  15.83  19.62  21.57  22.54  \n",
      "808    5.27   7.13   8.52   9.68  11.47  13.13  16.92  18.87  19.84  \n",
      "809    4.07   5.93   7.32   8.48  10.27  11.93  15.72  17.67  18.64  \n",
      "821    1.80   3.67   5.06   6.22   8.01   9.43  13.26  15.17  16.15  \n",
      "822    0.00   2.21   3.60   4.76   6.55   8.00  11.81  13.74  14.68  \n",
      "823    2.21   0.00   1.79   2.94   4.74   6.15  10.00  11.89  12.87  \n",
      "824    3.60   1.79   0.00   1.71   3.50   4.92   8.77  10.66  11.64  \n",
      "825    4.76   2.94   1.71   0.00   2.20   3.65   7.46   9.35  10.33  \n",
      "826    6.55   4.74   3.50   2.20   0.00   2.05   5.81   7.71   8.69  \n",
      "827    8.00   6.15   4.92   3.65   2.05   0.00   4.14   6.06   7.04  \n",
      "829   11.81  10.00  21.40   7.46   5.81   4.14   0.00   2.38   3.36  \n",
      "830   13.74  11.89  10.66   0.00   7.71   6.06   2.38   0.00   1.39  \n",
      "831   14.68  12.87  11.64  10.33   8.69   7.04   3.36   1.39   0.00  \n"
     ]
    },
    {
     "name": "stderr",
     "output_type": "stream",
     "text": [
      "C:\\Users\\User\\AppData\\Local\\Temp\\ipykernel_23004\\1647570153.py:17: FutureWarning: Using a non-tuple sequence for multidimensional indexing is deprecated; use `arr[tuple(seq)]` instead of `arr[seq]`. In the future this will be interpreted as an array index, `arr[np.array(seq)]`, which will result either in an error or a different result.\n",
      "  matrix.values[[range(len(matrix))]*2] = 0\n"
     ]
    }
   ],
   "source": [
    "import pandas as pd\n",
    "\n",
    "def generate_car_matrix(df):\n",
    "\n",
    "    matrix = df.pivot_table(index='id_1', columns='id_2', values='car', aggfunc='first', fill_value=0)\n",
    "    \n",
    "    matrix.values[[range(len(matrix))]*2] = 0\n",
    "\n",
    "    return matrix\n",
    "\n",
    "dataset_path = r'C:\\Users\\User\\Downloads\\dataset-1.csv'\n",
    "df = pd.read_csv(dataset_path)\n",
    "result_matrix = generate_car_matrix(df)\n",
    "print(result_matrix)\n",
    "\n"
   ]
  },
  {
   "cell_type": "code",
   "execution_count": 7,
   "id": "1003d450",
   "metadata": {},
   "outputs": [
    {
     "name": "stdout",
     "output_type": "stream",
     "text": [
      "{'high': 56, 'low': 196, 'medium': 89}\n"
     ]
    }
   ],
   "source": [
    "import pandas as pd\n",
    "\n",
    "def get_type_count(file_path):\n",
    "    \n",
    "    \n",
    "    df = pd.read_csv(file_path)\n",
    "\n",
    "    \n",
    "    df['car_type'] = pd.cut(df['car'], bins=[-float('inf'), 15, 25, float('inf')],labels=['low', 'medium', 'high'], right=False)\n",
    "\n",
    "\n",
    "    type_counts = df['car_type'].value_counts().to_dict()\n",
    "\n",
    "   \n",
    "    sorted_type_counts = dict(sorted(type_counts.items()))\n",
    "\n",
    "    return sorted_type_counts\n",
    "\n",
    "\n",
    "dataset_path = r'C:\\Users\\User\\Downloads\\dataset-1.csv'\n",
    "result = get_type_count(dataset_path)\n",
    "print(result)"
   ]
  },
  {
   "cell_type": "code",
   "execution_count": 9,
   "id": "46976d3e",
   "metadata": {},
   "outputs": [
    {
     "name": "stdout",
     "output_type": "stream",
     "text": [
      "[2, 7, 12, 17, 25, 30, 54, 64, 70, 97, 144, 145, 149, 154, 160, 201, 206, 210, 215, 234, 235, 245, 250, 309, 314, 319, 322, 323, 334, 340]\n"
     ]
    }
   ],
   "source": [
    "import pandas as pd\n",
    "\n",
    "def get_bus_indexes(df):\n",
    "    \"\"\"\n",
    "   \n",
    "    bus_mean = df['bus'].mean()\n",
    "\n",
    "    bus_indexes = df[df['bus'] > 2 * bus_mean].index.tolist()\n",
    "\n",
    "  \n",
    "    bus_indexes.sort()\n",
    "\n",
    "    return bus_indexes\n",
    "\n",
    "\n",
    "dataset_path = r'C:\\Users\\User\\Downloads\\dataset-1.csv'\n",
    "df = pd.read_csv(dataset_path)\n",
    "result_indexes = get_bus_indexes(df)\n",
    "print(result_indexes)"
   ]
  },
  {
   "cell_type": "code",
   "execution_count": 10,
   "id": "1e1aae99",
   "metadata": {},
   "outputs": [
    {
     "name": "stdout",
     "output_type": "stream",
     "text": [
      "[1, 2, 3, 4, 5, 6, 7, 8, 9, 10]\n"
     ]
    }
   ],
   "source": [
    "import pandas as pd\n",
    "\n",
    "def filter_routes(df):\n",
    "    \n",
    "    route_avg_truck = df.groupby('route')['truck'].mean()\n",
    "   \n",
    "    filtered_routes = route_avg_truck[route_avg_truck > 7].index.tolist()\n",
    "\n",
    "    filtered_routes.sort()\n",
    "\n",
    "    return filtered_routes\n",
    "\n",
    "\n",
    "dataset_path = r'C:\\Users\\User\\Downloads\\dataset-1.csv'\n",
    "df = pd.read_csv(dataset_path)\n",
    "result_routes = filter_routes(df)\n",
    "print(result_routes)\n"
   ]
  },
  {
   "cell_type": "code",
   "execution_count": 12,
   "id": "a206dd07",
   "metadata": {},
   "outputs": [
    {
     "name": "stdout",
     "output_type": "stream",
     "text": [
      "id_2   801   802   803   804   805   806   807   808   809   821   822   823  \\\n",
      "id_1                                                                           \n",
      "801    0.0   3.5   7.5   9.6  14.6  16.8  21.1  24.5  15.8  17.6  18.5  19.9   \n",
      "802    3.5   0.0   4.2   6.5  11.5  13.6  17.9  21.4  23.1  15.7  16.6  17.9   \n",
      "803    7.5   4.2   0.0   2.5   7.5   9.6  13.9  17.4  19.1  22.2  23.6  15.5   \n",
      "804    9.6   6.5   2.5   0.0   5.5   7.6  11.9  15.4  17.1  20.2  21.6  23.9   \n",
      "805   14.6  11.5   7.5   5.5   0.0   2.5   6.8  10.2  12.0  15.0  16.5  18.8   \n",
      "806   16.8  13.6   9.6   7.6   2.5   0.0   4.8   8.2  10.0  13.0  14.5  16.8   \n",
      "807   21.1  17.9  13.9  11.9   6.8   4.8   0.0   3.6   5.4   8.5  10.0  12.3   \n",
      "808   24.5  21.4  17.4  15.4  10.2   8.2   3.6   0.0   2.1   5.2   6.6   8.9   \n",
      "809   15.8  23.1  19.1  17.1  12.0  10.0   5.4   2.1   0.0   3.6   5.1   7.4   \n",
      "821   17.6  15.7  22.2  20.2  15.0  13.0   8.5   5.2   3.6   0.0   2.2   4.6   \n",
      "822   18.5  16.6  23.6  21.6  16.5  14.5  10.0   6.6   5.1   2.2   0.0   2.8   \n",
      "823   19.9  17.9  15.5  23.9  18.8  16.8  12.3   8.9   7.4   4.6   2.8   0.0   \n",
      "824   20.9  19.0  16.6  15.4  20.5   9.8  14.0  10.6   9.2   6.3   4.5   2.2   \n",
      "825   21.8  19.9  17.5  16.3  22.0  20.0  15.5  12.1  10.6   7.8   5.9   3.7   \n",
      "826   23.2  21.2  18.8  17.6  24.2  22.2  17.7  14.3  12.8  10.0   8.2   5.9   \n",
      "827   24.4  22.4  20.0  18.8  15.8  24.3  19.8  16.4  14.9  11.8  10.0   7.7   \n",
      "829   27.2  25.3  22.9  21.7  18.6  17.4  24.5  21.2  19.7  16.6  14.8  12.5   \n",
      "830   28.7  26.8  24.4  23.2  20.1  18.9  16.2  23.6  22.1  19.0  17.2  14.9   \n",
      "831   29.4  27.5  25.1  23.9  20.8  19.6  16.9  24.8  23.3  20.2  18.4  16.1   \n",
      "\n",
      "id_2   824   825   826   827   829   830   831  \n",
      "id_1                                            \n",
      "801   20.9  21.8  23.2  24.4  27.2  28.7  29.4  \n",
      "802   19.0  19.9  21.2  22.4  25.3  26.8  27.5  \n",
      "803   16.6  17.5  18.8  20.0  22.9  24.4  25.1  \n",
      "804   15.4  16.3  17.6  18.8  21.7  23.2  23.9  \n",
      "805   20.5  22.0  24.2  15.8  18.6  20.1  20.8  \n",
      "806   18.5  20.0  22.2  24.3  17.4  18.9  19.6  \n",
      "807   14.0  15.5  17.7  19.8  24.5  16.2  16.9  \n",
      "808   10.6  12.1  14.3  16.4  21.2  23.6  24.8  \n",
      "809    9.2  10.6  12.8  14.9  19.7  22.1  23.3  \n",
      "821    6.3   7.8  10.0  11.8  16.6  19.0  20.2  \n",
      "822    4.5   5.9   8.2  10.0  14.8  17.2  18.4  \n",
      "823    2.2   3.7   5.9   7.7  12.5  14.9  16.1  \n",
      "824    0.0   2.1   4.4   6.2  11.0  13.3  14.6  \n",
      "825    2.1   0.0   2.8   4.6   9.3  11.7  12.9  \n",
      "826    4.4   2.8   0.0   2.6   7.3   9.6  10.9  \n",
      "827    6.2   4.6   2.6   0.0   5.2   7.6   8.8  \n",
      "829   16.0   9.3   7.3   5.2   0.0   3.0   4.2  \n",
      "830   13.3   0.0   9.6   7.6   3.0   0.0   1.7  \n",
      "831   14.6  12.9  10.9   8.8   4.2   1.7   0.0  \n"
     ]
    },
    {
     "name": "stderr",
     "output_type": "stream",
     "text": [
      "C:\\Users\\User\\AppData\\Local\\Temp\\ipykernel_23004\\890571244.py:7: FutureWarning: Using a non-tuple sequence for multidimensional indexing is deprecated; use `arr[tuple(seq)]` instead of `arr[seq]`. In the future this will be interpreted as an array index, `arr[np.array(seq)]`, which will result either in an error or a different result.\n",
      "  matrix.values[[range(len(matrix))]*2] = 0\n"
     ]
    }
   ],
   "source": [
    "import pandas as pd\n",
    "\n",
    "def generate_car_matrix(df):\n",
    "\n",
    "    matrix = df.pivot_table(index='id_1', columns='id_2', values='car', fill_value=0)\n",
    "\n",
    "    matrix.values[[range(len(matrix))]*2] = 0\n",
    "\n",
    "    return matrix\n",
    "\n",
    "def multiply_matrix(matrix):\n",
    "  \n",
    "    modified_matrix = matrix.applymap(lambda x: x * 0.75 if x > 20 else x * 1.25)\n",
    "  \n",
    "    modified_matrix = modified_matrix.round(1)\n",
    "\n",
    "    return modified_matrix\n",
    "\n",
    "dataset_path = r'C:\\Users\\User\\Downloads\\dataset-1.csv'\n",
    "df = pd.read_csv(dataset_path)\n",
    "result_matrix = generate_car_matrix(df)\n",
    "modified_result_matrix = multiply_matrix(result_matrix)\n",
    "print(modified_result_matrix)\n"
   ]
  },
  {
   "cell_type": "code",
   "execution_count": 6,
   "id": "e636c73d",
   "metadata": {},
   "outputs": [
    {
     "name": "stdout",
     "output_type": "stream",
     "text": [
      "Error: Out of bounds nanosecond timestamp: 1-01-01 05:00:00\n",
      "Problematic values:\n",
      "       startDay startTime\n",
      "0        Monday  05:00:00\n",
      "1        Monday  10:00:00\n",
      "2      Thursday  15:00:00\n",
      "3        Monday  19:00:00\n",
      "4      Saturday  00:00:00\n",
      "...         ...       ...\n",
      "39509    Monday  19:00:00\n",
      "39510  Saturday  00:00:00\n",
      "39511  Saturday  00:00:00\n",
      "39512    Monday  05:00:00\n",
      "39513    Monday  10:00:00\n",
      "\n",
      "[39514 rows x 2 columns]\n",
      "None\n"
     ]
    }
   ],
   "source": [
    "import pandas as pd\n",
    "\n",
    "def time_check(df):\n",
    "  \n",
    "    try:\n",
    "        start_datetime = pd.to_datetime(df['startDay'] + ' ' + df['startTime'])\n",
    "\n",
    "        end_datetime = pd.to_datetime(df['endDay'] + ' ' + df['endTime'])\n",
    "\n",
    "        df['day_of_week'] = start_datetime.dt.day_name()\n",
    "        df['time_of_day'] = start_datetime.dt.time\n",
    "\n",
    "    \n",
    "        start_time = pd.to_datetime('00:00:00').time()\n",
    "        end_time = pd.to_datetime('23:59:59').time()\n",
    "\n",
    "        completeness_check = (\n",
    "            (df['time_of_day'] == start_time) & (df['day_of_week'] == 'Monday') |\n",
    "            (df['time_of_day'] == end_time) & (df['day_of_week'] == 'Sunday')\n",
    "        )\n",
    "\n",
    "        result_series = completeness_check.groupby([df['id'], df['id_2']]).any()\n",
    "\n",
    "        return result_series\n",
    "\n",
    "    except Exception as e:\n",
    "        print(f\"Error: {e}\")\n",
    "        print(\"Problematic values:\")\n",
    "        print(df[['startDay', 'startTime']])\n",
    "\n",
    "dataset_path = r'C:\\Users\\User\\Downloads\\dataset-2.csv'\n",
    "df_dataset2 = pd.read_csv(dataset_path)\n",
    "result_series = time_check(df_dataset2)\n",
    "print(result_series)\n"
   ]
  },
  {
   "cell_type": "code",
   "execution_count": 16,
   "id": "70d2c43a",
   "metadata": {},
   "outputs": [
    {
     "ename": "ValueError",
     "evalue": "The truth value of a Series is ambiguous. Use a.empty, a.bool(), a.item(), a.any() or a.all().",
     "output_type": "error",
     "traceback": [
      "\u001b[1;31m---------------------------------------------------------------------------\u001b[0m",
      "\u001b[1;31mValueError\u001b[0m                                Traceback (most recent call last)",
      "\u001b[1;32m~\\AppData\\Local\\Temp\\ipykernel_23004\\499048949.py\u001b[0m in \u001b[0;36m<module>\u001b[1;34m\u001b[0m\n\u001b[0;32m     45\u001b[0m \u001b[1;33m\u001b[0m\u001b[0m\n\u001b[0;32m     46\u001b[0m \u001b[1;31m# Example usage\u001b[0m\u001b[1;33m\u001b[0m\u001b[1;33m\u001b[0m\u001b[0m\n\u001b[1;32m---> 47\u001b[1;33m \u001b[0mtime_based_toll_df\u001b[0m \u001b[1;33m=\u001b[0m \u001b[0mcalculate_time_based_toll_rates\u001b[0m\u001b[1;33m(\u001b[0m\u001b[0mtoll_rate_df\u001b[0m\u001b[1;33m)\u001b[0m\u001b[1;33m\u001b[0m\u001b[1;33m\u001b[0m\u001b[0m\n\u001b[0m\u001b[0;32m     48\u001b[0m \u001b[0mprint\u001b[0m\u001b[1;33m(\u001b[0m\u001b[1;34m\"DataFrame with Time-Based Toll Rates:\"\u001b[0m\u001b[1;33m)\u001b[0m\u001b[1;33m\u001b[0m\u001b[1;33m\u001b[0m\u001b[0m\n\u001b[0;32m     49\u001b[0m \u001b[0mprint\u001b[0m\u001b[1;33m(\u001b[0m\u001b[0mtime_based_toll_df\u001b[0m\u001b[1;33m)\u001b[0m\u001b[1;33m\u001b[0m\u001b[1;33m\u001b[0m\u001b[0m\n",
      "\u001b[1;32m~\\AppData\\Local\\Temp\\ipykernel_23004\\499048949.py\u001b[0m in \u001b[0;36mcalculate_time_based_toll_rates\u001b[1;34m(toll_rate_df)\u001b[0m\n\u001b[0;32m     23\u001b[0m                 \u001b[0mmask\u001b[0m \u001b[1;33m=\u001b[0m \u001b[1;33m(\u001b[0m\u001b[0mgroup\u001b[0m\u001b[1;33m[\u001b[0m\u001b[1;34m'start_day'\u001b[0m\u001b[1;33m]\u001b[0m\u001b[1;33m.\u001b[0m\u001b[0misnull\u001b[0m\u001b[1;33m(\u001b[0m\u001b[1;33m)\u001b[0m\u001b[1;33m)\u001b[0m \u001b[1;33m&\u001b[0m \u001b[1;33m(\u001b[0m\u001b[0mgroup\u001b[0m\u001b[1;33m[\u001b[0m\u001b[1;34m'end_day'\u001b[0m\u001b[1;33m]\u001b[0m\u001b[1;33m.\u001b[0m\u001b[0misnull\u001b[0m\u001b[1;33m(\u001b[0m\u001b[1;33m)\u001b[0m\u001b[1;33m)\u001b[0m \u001b[1;33m&\u001b[0m \u001b[1;33m(\u001b[0m\u001b[0mgroup\u001b[0m\u001b[1;33m[\u001b[0m\u001b[1;34m'start_time'\u001b[0m\u001b[1;33m]\u001b[0m\u001b[1;33m.\u001b[0m\u001b[0misnull\u001b[0m\u001b[1;33m(\u001b[0m\u001b[1;33m)\u001b[0m\u001b[1;33m)\u001b[0m \u001b[1;33m&\u001b[0m \u001b[1;33m(\u001b[0m\u001b[0mgroup\u001b[0m\u001b[1;33m[\u001b[0m\u001b[1;34m'end_time'\u001b[0m\u001b[1;33m]\u001b[0m\u001b[1;33m.\u001b[0m\u001b[0misnull\u001b[0m\u001b[1;33m(\u001b[0m\u001b[1;33m)\u001b[0m\u001b[1;33m)\u001b[0m\u001b[1;33m\u001b[0m\u001b[1;33m\u001b[0m\u001b[0m\n\u001b[0;32m     24\u001b[0m                 \u001b[0mmask\u001b[0m \u001b[1;33m&=\u001b[0m \u001b[1;33m(\u001b[0m\u001b[0mgroup\u001b[0m\u001b[1;33m[\u001b[0m\u001b[1;34m'start_time'\u001b[0m\u001b[1;33m]\u001b[0m \u001b[1;33m>=\u001b[0m \u001b[0mstart_time\u001b[0m\u001b[1;33m)\u001b[0m \u001b[1;33m&\u001b[0m \u001b[1;33m(\u001b[0m\u001b[0mgroup\u001b[0m\u001b[1;33m[\u001b[0m\u001b[1;34m'end_time'\u001b[0m\u001b[1;33m]\u001b[0m \u001b[1;33m<=\u001b[0m \u001b[0mend_time\u001b[0m\u001b[1;33m)\u001b[0m\u001b[1;33m\u001b[0m\u001b[1;33m\u001b[0m\u001b[0m\n\u001b[1;32m---> 25\u001b[1;33m                 \u001b[0mmask\u001b[0m \u001b[1;33m&=\u001b[0m \u001b[1;33m(\u001b[0m\u001b[0mgroup\u001b[0m\u001b[1;33m[\u001b[0m\u001b[1;34m'start_day'\u001b[0m\u001b[1;33m]\u001b[0m \u001b[1;33m==\u001b[0m \u001b[0mgroup\u001b[0m\u001b[1;33m[\u001b[0m\u001b[1;34m'end_day'\u001b[0m\u001b[1;33m]\u001b[0m \u001b[1;33m==\u001b[0m \u001b[0mday\u001b[0m\u001b[1;33m)\u001b[0m\u001b[1;33m\u001b[0m\u001b[1;33m\u001b[0m\u001b[0m\n\u001b[0m\u001b[0;32m     26\u001b[0m                 \u001b[0mresult_df\u001b[0m\u001b[1;33m.\u001b[0m\u001b[0mloc\u001b[0m\u001b[1;33m[\u001b[0m\u001b[0mmask\u001b[0m\u001b[1;33m,\u001b[0m \u001b[1;33m[\u001b[0m\u001b[1;34m'start_day'\u001b[0m\u001b[1;33m,\u001b[0m \u001b[1;34m'end_day'\u001b[0m\u001b[1;33m,\u001b[0m \u001b[1;34m'start_time'\u001b[0m\u001b[1;33m,\u001b[0m \u001b[1;34m'end_time'\u001b[0m\u001b[1;33m]\u001b[0m\u001b[1;33m]\u001b[0m \u001b[1;33m=\u001b[0m \u001b[0mday\u001b[0m\u001b[1;33m,\u001b[0m \u001b[0mday\u001b[0m\u001b[1;33m,\u001b[0m \u001b[0mstart_time\u001b[0m\u001b[1;33m,\u001b[0m \u001b[0mend_time\u001b[0m\u001b[1;33m\u001b[0m\u001b[1;33m\u001b[0m\u001b[0m\n\u001b[0;32m     27\u001b[0m \u001b[1;33m\u001b[0m\u001b[0m\n",
      "\u001b[1;32m~\\anaconda3\\lib\\site-packages\\pandas\\core\\generic.py\u001b[0m in \u001b[0;36m__nonzero__\u001b[1;34m(self)\u001b[0m\n\u001b[0;32m   1525\u001b[0m     \u001b[1;33m@\u001b[0m\u001b[0mfinal\u001b[0m\u001b[1;33m\u001b[0m\u001b[1;33m\u001b[0m\u001b[0m\n\u001b[0;32m   1526\u001b[0m     \u001b[1;32mdef\u001b[0m \u001b[0m__nonzero__\u001b[0m\u001b[1;33m(\u001b[0m\u001b[0mself\u001b[0m\u001b[1;33m)\u001b[0m\u001b[1;33m:\u001b[0m\u001b[1;33m\u001b[0m\u001b[1;33m\u001b[0m\u001b[0m\n\u001b[1;32m-> 1527\u001b[1;33m         raise ValueError(\n\u001b[0m\u001b[0;32m   1528\u001b[0m             \u001b[1;34mf\"The truth value of a {type(self).__name__} is ambiguous. \"\u001b[0m\u001b[1;33m\u001b[0m\u001b[1;33m\u001b[0m\u001b[0m\n\u001b[0;32m   1529\u001b[0m             \u001b[1;34m\"Use a.empty, a.bool(), a.item(), a.any() or a.all().\"\u001b[0m\u001b[1;33m\u001b[0m\u001b[1;33m\u001b[0m\u001b[0m\n",
      "\u001b[1;31mValueError\u001b[0m: The truth value of a Series is ambiguous. Use a.empty, a.bool(), a.item(), a.any() or a.all()."
     ]
    }
   ],
   "source": [
    "import pandas as pd\n",
    "from datetime import time\n",
    "\n",
    "\n",
    "def calculate_toll_rate(unrolled_df):\n",
    "   \n",
    "    return unrolled_df\n",
    "\n",
    "def calculate_time_based_toll_rates(toll_rate_df):\n",
    "    result_df = toll_rate_df.copy()\n",
    "\n",
    "    weekday_time_ranges = [(time(0, 0, 0), time(10, 0, 0)),\n",
    "                           (time(10, 0, 0), time(18, 0, 0)),\n",
    "                           (time(18, 0, 0), time(23, 59, 59))]\n",
    "\n",
    "    weekend_time_ranges = [(time(0, 0, 0), time(23, 59, 59))]\n",
    "\n",
    "    result_df['start_day'] = result_df['end_day'] = result_df['start_time'] = result_df['end_time'] = None\n",
    "\n",
    "    for _, group in result_df.groupby(['id_start', 'id_end']):\n",
    "        for day in range(7):\n",
    "            for start_time, end_time in weekday_time_ranges:\n",
    "                mask = (group['start_day'].isnull()) & (group['end_day'].isnull()) & (group['start_time'].isnull()) & (group['end_time'].isnull())\n",
    "                mask &= (group['start_time'] >= start_time) & (group['end_time'] <= end_time)\n",
    "                mask &= (group['start_day'] == group['end_day'] == day)\n",
    "                result_df.loc[mask, ['start_day', 'end_day', 'start_time', 'end_time']] = day, day, start_time, end_time\n",
    "\n",
    "            for start_time, end_time in weekend_time_ranges:\n",
    "                mask = (group['start_day'].isnull()) & (group['end_day'].isnull()) & (group['start_time'].isnull()) & (group['end_time'].isnull())\n",
    "                mask &= (group['start_time'] >= start_time) & (group['end_time'] <= end_time)\n",
    "                mask &= (group['start_day'] == group['end_day'] == day)\n",
    "                result_df.loc[mask, ['start_day', 'end_day', 'start_time', 'end_time']] = day, day, start_time, end_time\n",
    "\n",
    "    return result_df\n",
    "\n",
    "# Assuming you have some data to calculate toll rates (replace this with your actual data)\n",
    "unrolled_df = pd.DataFrame({\n",
    "    'id_start': [1, 1, 2, 2],\n",
    "    'id_end': [2, 2, 1, 1],\n",
    "    'start_time': [time(8, 0, 0), time(12, 0, 0), time(18, 30, 0), time(22, 0, 0)],\n",
    "    'end_time': [time(10, 0, 0), time(16, 0, 0), time(21, 0, 0), time(23, 0, 0)],\n",
    "})\n",
    "\n",
    "toll_rate_df = calculate_toll_rate(unrolled_df)\n",
    "\n",
    "# Example usage\n",
    "time_based_toll_df = calculate_time_based_toll_rates(toll_rate_df)\n",
    "print(\"DataFrame with Time-Based Toll Rates:\")\n",
    "print(time_based_toll_df)\n"
   ]
  },
  {
   "cell_type": "code",
   "execution_count": null,
   "id": "a7cf1881",
   "metadata": {},
   "outputs": [],
   "source": []
  }
 ],
 "metadata": {
  "kernelspec": {
   "display_name": "Python 3 (ipykernel)",
   "language": "python",
   "name": "python3"
  },
  "language_info": {
   "codemirror_mode": {
    "name": "ipython",
    "version": 3
   },
   "file_extension": ".py",
   "mimetype": "text/x-python",
   "name": "python",
   "nbconvert_exporter": "python",
   "pygments_lexer": "ipython3",
   "version": "3.9.13"
  }
 },
 "nbformat": 4,
 "nbformat_minor": 5
}
